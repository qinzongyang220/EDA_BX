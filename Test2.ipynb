{
 "cells": [
  {
   "cell_type": "code",
   "id": "initial_id",
   "metadata": {
    "collapsed": true,
    "ExecuteTime": {
     "end_time": "2025-02-15T01:02:25.903339Z",
     "start_time": "2025-02-15T01:02:23.373373Z"
    }
   },
   "source": [
    "import numpy as np\n",
    "import pandas as pd\n",
    "\n",
    "from xgboost import XGBClassifier\n",
    "from catboost import CatBoostClassifier\n",
    "from lightgbm import LGBMClassifier, early_stopping\n",
    "from sklearn.model_selection import StratifiedKFold"
   ],
   "outputs": [],
   "execution_count": 1
  },
  {
   "metadata": {
    "ExecuteTime": {
     "end_time": "2025-02-15T01:03:29.683781Z",
     "start_time": "2025-02-15T01:03:28.043202Z"
    }
   },
   "cell_type": "code",
   "source": [
    "main_train = pd.read_csv('E:/Pycharm_5/test1/train.csv').drop('id', axis=1)\n",
    "main_test = pd.read_csv('E:/Pycharm_5/test1/test.csv').drop('id', axis=1)\n",
    "extra_data = pd.read_csv('E:/Pycharm_5/test1/train.csv').drop('id', axis=1)"
   ],
   "id": "8fcdcc1fdba0f68a",
   "outputs": [],
   "execution_count": 2
  },
  {
   "metadata": {
    "ExecuteTime": {
     "end_time": "2025-02-15T01:03:43.474320Z",
     "start_time": "2025-02-15T01:03:43.467010Z"
    }
   },
   "cell_type": "code",
   "source": [
    "def prepare_data(df):\n",
    "    \n",
    "    df['Vehicle_Age'] = df['Vehicle_Age'].replace({'< 1 Year':0, '1-2 Year':1, '> 2 Years':2})\n",
    "    df['Vehicle_Damage'] = df['Vehicle_Damage'].replace({'No':0, 'Yes':1})\n",
    "    df['Gender'] = df['Gender'].replace({'Male': 0, 'Female': 1})\n",
    "    \n",
    "    df['Vehicle_Age'] = df['Vehicle_Age'].astype('int8')\n",
    "    df[['Gender', 'Vehicle_Damage']] = df[['Gender', 'Vehicle_Damage']].astype('bool')\n",
    "    df[['Driving_License','Previously_Insured']] = df[['Driving_License','Previously_Insured']].astype('bool')\n",
    "    df[['Age', 'Region_Code', 'Policy_Sales_Channel', 'Vintage']] = df[['Age', 'Region_Code', 'Policy_Sales_Channel', 'Vintage']].astype('int16')\n",
    "    df['Annual_Premium'] = df['Annual_Premium'].astype('int32')\n",
    "    \n",
    "    if 'Response' in df.columns:\n",
    "        df['Response'] = df['Response'].astype('bool')\n",
    "    return df"
   ],
   "id": "7a8070a07eccbad0",
   "outputs": [],
   "execution_count": 4
  },
  {
   "metadata": {
    "ExecuteTime": {
     "end_time": "2025-02-15T01:04:45.104424Z",
     "start_time": "2025-02-15T01:04:44.179102Z"
    }
   },
   "cell_type": "code",
   "source": [
    "main_train = prepare_data(main_train)\n",
    "exter_data = prepare_data(extra_data)\n",
    "main_test = prepare_data(main_test)\n",
    "\n",
    "print('Train')\n",
    "main_train.info()\n",
    "print('External\\n')\n",
    "extra_data.info()\n",
    "print('Test\\n')\n",
    "main_test.info()"
   ],
   "id": "103cf4082f399b9d",
   "outputs": [
    {
     "name": "stderr",
     "output_type": "stream",
     "text": [
      "C:\\Users\\264620\\AppData\\Local\\Temp\\ipykernel_4460\\698368539.py:3: FutureWarning: Downcasting behavior in `replace` is deprecated and will be removed in a future version. To retain the old behavior, explicitly call `result.infer_objects(copy=False)`. To opt-in to the future behavior, set `pd.set_option('future.no_silent_downcasting', True)`\n",
      "  df['Vehicle_Age'] = df['Vehicle_Age'].replace({'< 1 Year':0, '1-2 Year':1, '> 2 Years':2})\n",
      "C:\\Users\\264620\\AppData\\Local\\Temp\\ipykernel_4460\\698368539.py:4: FutureWarning: Downcasting behavior in `replace` is deprecated and will be removed in a future version. To retain the old behavior, explicitly call `result.infer_objects(copy=False)`. To opt-in to the future behavior, set `pd.set_option('future.no_silent_downcasting', True)`\n",
      "  df['Vehicle_Damage'] = df['Vehicle_Damage'].replace({'No':0, 'Yes':1})\n",
      "C:\\Users\\264620\\AppData\\Local\\Temp\\ipykernel_4460\\698368539.py:5: FutureWarning: Downcasting behavior in `replace` is deprecated and will be removed in a future version. To retain the old behavior, explicitly call `result.infer_objects(copy=False)`. To opt-in to the future behavior, set `pd.set_option('future.no_silent_downcasting', True)`\n",
      "  df['Gender'] = df['Gender'].replace({'Male': 0, 'Female': 1})\n",
      "C:\\Users\\264620\\AppData\\Local\\Temp\\ipykernel_4460\\698368539.py:3: FutureWarning: Downcasting behavior in `replace` is deprecated and will be removed in a future version. To retain the old behavior, explicitly call `result.infer_objects(copy=False)`. To opt-in to the future behavior, set `pd.set_option('future.no_silent_downcasting', True)`\n",
      "  df['Vehicle_Age'] = df['Vehicle_Age'].replace({'< 1 Year':0, '1-2 Year':1, '> 2 Years':2})\n",
      "C:\\Users\\264620\\AppData\\Local\\Temp\\ipykernel_4460\\698368539.py:4: FutureWarning: Downcasting behavior in `replace` is deprecated and will be removed in a future version. To retain the old behavior, explicitly call `result.infer_objects(copy=False)`. To opt-in to the future behavior, set `pd.set_option('future.no_silent_downcasting', True)`\n",
      "  df['Vehicle_Damage'] = df['Vehicle_Damage'].replace({'No':0, 'Yes':1})\n"
     ]
    },
    {
     "name": "stdout",
     "output_type": "stream",
     "text": [
      "Train\n",
      "<class 'pandas.core.frame.DataFrame'>\n",
      "RangeIndex: 381109 entries, 0 to 381108\n",
      "Data columns (total 11 columns):\n",
      " #   Column                Non-Null Count   Dtype\n",
      "---  ------                --------------   -----\n",
      " 0   Gender                381109 non-null  bool \n",
      " 1   Age                   381109 non-null  int16\n",
      " 2   Driving_License       381109 non-null  bool \n",
      " 3   Region_Code           381109 non-null  int16\n",
      " 4   Previously_Insured    381109 non-null  bool \n",
      " 5   Vehicle_Age           381109 non-null  int8 \n",
      " 6   Vehicle_Damage        381109 non-null  bool \n",
      " 7   Annual_Premium        381109 non-null  int32\n",
      " 8   Policy_Sales_Channel  381109 non-null  int16\n",
      " 9   Vintage               381109 non-null  int16\n",
      " 10  Response              381109 non-null  bool \n",
      "dtypes: bool(5), int16(4), int32(1), int8(1)\n",
      "memory usage: 6.5 MB\n",
      "External\n",
      "\n",
      "<class 'pandas.core.frame.DataFrame'>\n",
      "RangeIndex: 381109 entries, 0 to 381108\n",
      "Data columns (total 11 columns):\n",
      " #   Column                Non-Null Count   Dtype\n",
      "---  ------                --------------   -----\n",
      " 0   Gender                381109 non-null  bool \n",
      " 1   Age                   381109 non-null  int16\n",
      " 2   Driving_License       381109 non-null  bool \n",
      " 3   Region_Code           381109 non-null  int16\n",
      " 4   Previously_Insured    381109 non-null  bool \n",
      " 5   Vehicle_Age           381109 non-null  int8 \n",
      " 6   Vehicle_Damage        381109 non-null  bool \n",
      " 7   Annual_Premium        381109 non-null  int32\n",
      " 8   Policy_Sales_Channel  381109 non-null  int16\n",
      " 9   Vintage               381109 non-null  int16\n",
      " 10  Response              381109 non-null  bool \n",
      "dtypes: bool(5), int16(4), int32(1), int8(1)\n",
      "memory usage: 6.5 MB\n",
      "Test\n",
      "\n",
      "<class 'pandas.core.frame.DataFrame'>\n",
      "RangeIndex: 127037 entries, 0 to 127036\n",
      "Data columns (total 10 columns):\n",
      " #   Column                Non-Null Count   Dtype\n",
      "---  ------                --------------   -----\n",
      " 0   Gender                127037 non-null  bool \n",
      " 1   Age                   127037 non-null  int16\n",
      " 2   Driving_License       127037 non-null  bool \n",
      " 3   Region_Code           127037 non-null  int16\n",
      " 4   Previously_Insured    127037 non-null  bool \n",
      " 5   Vehicle_Age           127037 non-null  int8 \n",
      " 6   Vehicle_Damage        127037 non-null  bool \n",
      " 7   Annual_Premium        127037 non-null  int32\n",
      " 8   Policy_Sales_Channel  127037 non-null  int16\n",
      " 9   Vintage               127037 non-null  int16\n",
      "dtypes: bool(4), int16(4), int32(1), int8(1)\n",
      "memory usage: 2.1 MB\n"
     ]
    },
    {
     "name": "stderr",
     "output_type": "stream",
     "text": [
      "C:\\Users\\264620\\AppData\\Local\\Temp\\ipykernel_4460\\698368539.py:5: FutureWarning: Downcasting behavior in `replace` is deprecated and will be removed in a future version. To retain the old behavior, explicitly call `result.infer_objects(copy=False)`. To opt-in to the future behavior, set `pd.set_option('future.no_silent_downcasting', True)`\n",
      "  df['Gender'] = df['Gender'].replace({'Male': 0, 'Female': 1})\n",
      "C:\\Users\\264620\\AppData\\Local\\Temp\\ipykernel_4460\\698368539.py:3: FutureWarning: Downcasting behavior in `replace` is deprecated and will be removed in a future version. To retain the old behavior, explicitly call `result.infer_objects(copy=False)`. To opt-in to the future behavior, set `pd.set_option('future.no_silent_downcasting', True)`\n",
      "  df['Vehicle_Age'] = df['Vehicle_Age'].replace({'< 1 Year':0, '1-2 Year':1, '> 2 Years':2})\n",
      "C:\\Users\\264620\\AppData\\Local\\Temp\\ipykernel_4460\\698368539.py:4: FutureWarning: Downcasting behavior in `replace` is deprecated and will be removed in a future version. To retain the old behavior, explicitly call `result.infer_objects(copy=False)`. To opt-in to the future behavior, set `pd.set_option('future.no_silent_downcasting', True)`\n",
      "  df['Vehicle_Damage'] = df['Vehicle_Damage'].replace({'No':0, 'Yes':1})\n",
      "C:\\Users\\264620\\AppData\\Local\\Temp\\ipykernel_4460\\698368539.py:5: FutureWarning: Downcasting behavior in `replace` is deprecated and will be removed in a future version. To retain the old behavior, explicitly call `result.infer_objects(copy=False)`. To opt-in to the future behavior, set `pd.set_option('future.no_silent_downcasting', True)`\n",
      "  df['Gender'] = df['Gender'].replace({'Male': 0, 'Female': 1})\n"
     ]
    }
   ],
   "execution_count": 5
  },
  {
   "metadata": {
    "ExecuteTime": {
     "end_time": "2025-02-15T01:04:56.290629Z",
     "start_time": "2025-02-15T01:04:56.276410Z"
    }
   },
   "cell_type": "code",
   "source": "X, y = main_train.drop('Response', axis=1), main_train['Response']",
   "id": "b4c216fdeb6bcf71",
   "outputs": [],
   "execution_count": 6
  },
  {
   "metadata": {
    "jupyter": {
     "is_executing": true
    },
    "ExecuteTime": {
     "start_time": "2025-02-15T01:05:10.921021Z"
    }
   },
   "cell_type": "code",
   "source": [
    "    #XGB\n",
    "skf = StratifiedKFold(n_splits=5, shuffle=True, random_state=42)\n",
    "xgb_stacking, xgb_stacking_test = np.zeros(len(X)), np.zeros(len(main_test))\n",
    "\n",
    "for train_idx, val_idx in skf.split(X, y):\n",
    "    X_tr, y_tr = X.iloc[train_idx], y.iloc[train_idx]\n",
    "    X_val, y_val = X.iloc[val_idx], y.iloc[val_idx]\n",
    "    eval_set = [(X_val, y_val)]\n",
    "    \n",
    "    X_tr = pd.concat([X_tr, extra_data.drop('Response', axis=1)], ignore_index=True)\n",
    "    y_tr = pd.concat([y_tr, extra_data['Response']], ignore_index=True)\n",
    "    \n",
    "    xgb_params = {\n",
    "    \n",
    "    'n_estimators': 10000,\n",
    "    'eta': 0.05,\n",
    "    'alpha':  0.2545607592482198,\n",
    "    'subsample': 0.8388163485383147, \n",
    "    'colsample_bytree': 0.2732499701466825, \n",
    "    'max_depth': 16,\n",
    "    'min_child_weight': 5,\n",
    "    'gamma': 0.0017688666476104672,\n",
    "    'eval_metric': 'auc',\n",
    "    'max_bin': 262143,\n",
    "    'tree_method':\"hist\",\n",
    "    'device':\"cuda\",\n",
    "}\n",
    "\n",
    "    xgb_model = XGBClassifier(**xgb_params, early_stopping_rounds=50, random_state=42)\n",
    "    xgb_model.fit(X_tr, y_tr, eval_set=eval_set, verbose=False)\n",
    "    best_iteration = xgb_model.best_iteration\n",
    "    \n",
    "    stack_preds = xgb_model.predict_proba(X_val, iteration_range=(0, best_iteration))[:, 1]\n",
    "    test_preds = xgb_model.predict_proba(main_test, iteration_range=(0, best_iteration))[:, 1]\n",
    "    \n",
    "    xgb_stacking[val_idx] = stack_preds\n",
    "    xgb_stacking_test += test_preds / skf.get_n_splits()"
   ],
   "id": "7fb9192f8152feff",
   "outputs": [],
   "execution_count": null
  },
  {
   "metadata": {},
   "cell_type": "code",
   "outputs": [],
   "execution_count": null,
   "source": [
    "#LGBM\n",
    "skf = StratifiedKFold(n_splits=5, shuffle=True, random_state=42)\n",
    "lgbm_stacking, lgbm_stacking_test = np.zeros(len(X)), np.zeros(len(main_test))\n",
    "\n",
    "for train_idx, val_idx in skf.split(X, y):\n",
    "    X_tr, y_tr = X.iloc[train_idx], y.iloc[train_idx]\n",
    "    X_val, y_val = X.iloc[val_idx], y.iloc[val_idx]\n",
    "    eval_set = [(X_val, y_val)]\n",
    "    \n",
    "    X_tr = pd.concat([X_tr, extra_data.drop('Response', axis=1)], ignore_index=True)\n",
    "    y_tr = pd.concat([y_tr, extra_data['Response']], ignore_index=True)\n",
    "    \n",
    "    lgbm_params = {'n_estimators': 2000,\n",
    "                   \"verbose\": -1,\n",
    "                   'depth': 6,\n",
    "                   \"eval_metric\": \"auc\",\n",
    "                   \"max_bin\": 262143,\n",
    "                   'num_leaves': 223,\n",
    "                   'learning_rate': 0.3, \n",
    "                   'min_child_samples': 54,\n",
    "                   'subsample': 0.5395472919165504,\n",
    "                   'colsample_bytree': 0.547518064129546,\n",
    "                   'lambda_l1': 3.4444245446562,\n",
    "                   'lambda_l2': 2.87490408088595e-05}\n",
    "\n",
    "    lgbm_model = LGBMClassifier(**lgbm_params, random_state=42)\n",
    "    lgbm_model.fit(X_tr, y_tr, eval_set=eval_set, eval_metric='auc', callbacks=[early_stopping(50)])\n",
    "    best_iteration = lgbm_model.best_iteration_\n",
    "    \n",
    "    stack_preds = lgbm_model.predict_proba(X_val, num_iteration=best_iteration)[:, 1]\n",
    "    test_preds = lgbm_model.predict_proba(main_test, num_iteration=best_iteration)[:, 1]\n",
    "    \n",
    "    lgbm_stacking[val_idx] = stack_preds\n",
    "    lgbm_stacking_test += test_preds / skf.get_n_splits()"
   ],
   "id": "4db4577a5ea34e5f"
  },
  {
   "metadata": {},
   "cell_type": "code",
   "outputs": [],
   "execution_count": null,
   "source": [
    "#CatBoost\n",
    "skf = StratifiedKFold(n_splits=5, shuffle=True, random_state=42)\n",
    "cat_stacking, cat_stacking_test = np.zeros(len(X)), np.zeros(len(main_test))\n",
    "\n",
    "for train_idx, val_idx in skf.split(X, y):\n",
    "    X_tr, y_tr = X.iloc[train_idx], y.iloc[train_idx]\n",
    "    X_val, y_val = X.iloc[val_idx], y.iloc[val_idx]\n",
    "    eval_set = [(X_val, y_val)]\n",
    "    \n",
    "    X_tr = pd.concat([X_tr, extra_data.drop('Response', axis=1)], ignore_index=True)\n",
    "    y_tr = pd.concat([y_tr, extra_data['Response']], ignore_index=True)\n",
    "    \n",
    "    cat_params = {\n",
    "    'iterations': 10000,\n",
    "    'eval_metric': 'AUC',\n",
    "    'task_type': 'GPU',\n",
    "    'learning_rate': 0.05,\n",
    "    'depth': 9,\n",
    "    'l2_leaf_reg': 55.37964307854247,\n",
    "    'max_bin': 404,\n",
    "    'bagging_temperature': 0.017138393608280057,\n",
    "    'random_strength': 9.256288011643901\n",
    "}\n",
    "\n",
    "    cat_model = CatBoostClassifier(**cat_params, random_state=42, logging_level='Silent',cat_features=main_test.columns.values)\n",
    "    cat_model.fit(X_tr, y_tr, eval_set=(X_val, y_val), early_stopping_rounds=50, verbose=False)\n",
    "\n",
    "    stack_preds = cat_model.predict_proba(X_val)[:, 1]\n",
    "    test_preds = cat_model.predict_proba(main_test)[:, 1]\n",
    "    \n",
    "    cat_stacking[val_idx] = stack_preds\n",
    "    cat_stacking_test += test_preds / skf.get_n_splits()"
   ],
   "id": "22be44e48baebdde"
  },
  {
   "metadata": {},
   "cell_type": "code",
   "outputs": [],
   "execution_count": null,
   "source": [
    "stacking_df = pd.DataFrame({\n",
    "    'xgb_proba': xgb_stacking,\n",
    "    'lgbm_proba': lgbm_stacking,\n",
    "    'cat_proba': cat_stacking\n",
    "})\n",
    "\n",
    "stacking_test_df = pd.DataFrame({\n",
    "    'xgb_proba': xgb_stacking_test,\n",
    "    'lgbm_proba': lgbm_stacking_test,\n",
    "    'cat_proba': cat_stacking_test\n",
    "})"
   ],
   "id": "7b9fcd4bf20e1b39"
  },
  {
   "metadata": {},
   "cell_type": "code",
   "outputs": [],
   "execution_count": null,
   "source": [
    "meta_model_params = {\n",
    "    'n_estimators': 43,\n",
    "    'alpha': 0.000759453839369262,\n",
    "    'subsample': 0.8635904939859487,\n",
    "    'colsample_bytree': 0.7579443772400538,\n",
    "    'max_depth': 7, 'min_child_weight': 5,\n",
    "    'learning_rate': 0.13688008280542863,\n",
    "    'gamma': 0.19965095682630274\n",
    "}\n",
    "\n",
    "meta_model = XGBClassifier(**meta_model_params, random_state=42)\n",
    "meta_model.fit(stacking_df, y)\n",
    "\n",
    "test_preds = meta_model.predict_proba(stacking_test_df)[:,1]"
   ],
   "id": "b77c827afe52cb9e"
  },
  {
   "metadata": {},
   "cell_type": "code",
   "outputs": [],
   "execution_count": null,
   "source": [
    "sub = pd.read_csv(\"/kaggle/input/playground-series-s4e7/sample_submission.csv\")\n",
    "blend = pd.read_parquet(\"/kaggle/input/stacking-xgb-lgbm-catb-ann/submission.parquet\")\n",
    "sub['Response'] = test_preds\n",
    "sub['Response'] = np.mean([sub['Response'], blend['Response']], axis=0)\n",
    "sub.to_csv('submission.csv', index=False)"
   ],
   "id": "9df74fa74d42e8df"
  }
 ],
 "metadata": {
  "kernelspec": {
   "display_name": "Python 3",
   "language": "python",
   "name": "python3"
  },
  "language_info": {
   "codemirror_mode": {
    "name": "ipython",
    "version": 2
   },
   "file_extension": ".py",
   "mimetype": "text/x-python",
   "name": "python",
   "nbconvert_exporter": "python",
   "pygments_lexer": "ipython2",
   "version": "2.7.6"
  }
 },
 "nbformat": 4,
 "nbformat_minor": 5
}
